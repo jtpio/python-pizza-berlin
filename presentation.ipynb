{
 "cells": [
  {
   "cell_type": "markdown",
   "metadata": {},
   "source": [
    "![](./img/skip.png)"
   ]
  },
  {
   "cell_type": "markdown",
   "metadata": {},
   "source": [
    "# Inspecting CPython Bytecode in JupyterLab\n",
    "\n",
    "## 🍕 Python Pizza Berlin 🍕 - 2019-02-23\n",
    "\n",
    "## Jeremy Tuloup - [github.com/jtpio/pizza-bytecode](https://github.com/jtpio/pizza-bytecode)"
   ]
  },
  {
   "cell_type": "markdown",
   "metadata": {},
   "source": [
    "![](./img/skip.png)"
   ]
  },
  {
   "cell_type": "markdown",
   "metadata": {},
   "source": [
    "# Who has heard about CPython bytecode? 🙋"
   ]
  },
  {
   "cell_type": "markdown",
   "metadata": {},
   "source": [
    "![](./img/skip.png)"
   ]
  },
  {
   "cell_type": "markdown",
   "metadata": {},
   "source": [
    "![gitignore](./img/gitignore.png)"
   ]
  },
  {
   "cell_type": "markdown",
   "metadata": {},
   "source": [
    "![](./img/skip.png)"
   ]
  },
  {
   "cell_type": "markdown",
   "metadata": {},
   "source": [
    "# Flow\n",
    "\n",
    "![flow](./img/compilation_flow.png)\n",
    "\n",
    "Source: [Inside The Python Virtual Machine - Obi Ike-Nwosu](https://leanpub.com/insidethepythonvirtualmachine) - Figure 2.1"
   ]
  },
  {
   "cell_type": "markdown",
   "metadata": {},
   "source": [
    "![](./img/skip.png)"
   ]
  },
  {
   "cell_type": "markdown",
   "metadata": {},
   "source": [
    "# Allison Kaptur - Bytes in the Machine: Inside the CPython interpreter - PyCon 2015\n",
    "\n",
    "[![Allison Kaptur](https://img.youtube.com/vi/HVUTjQzESeo/0.jpg)](https://www.youtube.com/watch?v=HVUTjQzESeo)"
   ]
  },
  {
   "cell_type": "markdown",
   "metadata": {},
   "source": [
    "![](./img/skip.png)"
   ]
  },
  {
   "cell_type": "markdown",
   "metadata": {},
   "source": [
    "# James Bennett - A Bit about Bytes: Understanding Python Bytecode - PyCon 2018\n",
    "\n",
    "[![James Bennett](https://img.youtube.com/vi/cSSpnq362Bk/0.jpg)](https://www.youtube.com/watch?v=cSSpnq362Bk)"
   ]
  },
  {
   "cell_type": "markdown",
   "metadata": {},
   "source": [
    "![](./img/skip.png)"
   ]
  },
  {
   "cell_type": "markdown",
   "metadata": {},
   "source": [
    "\n",
    "# jupyterlab-python-bytecode\n",
    "\n",
    "<img style=\"float: right; max-width: 500px;\" src=\"./for_while.gif\">\n",
    "\n",
    "<br>\n",
    "<br>\n",
    "\n",
    "## [github.com/jtpio/jupyterlab-python-bytecode](https://github.com/jtpio/jupyterlab-python-bytecode)\n",
    "\n",
    "\n",
    "## `jupyter labextension install jupyterlab-python-bytecode`\n",
    "\n",
    "# [DEMO](./examples/demo.py)"
   ]
  },
  {
   "cell_type": "markdown",
   "metadata": {},
   "source": [
    "![](./img/skip.png)"
   ]
  },
  {
   "cell_type": "markdown",
   "metadata": {},
   "source": [
    "![binary_add](./img/binary_add.png)"
   ]
  },
  {
   "cell_type": "markdown",
   "metadata": {},
   "source": [
    "![](./img/skip.png)"
   ]
  },
  {
   "cell_type": "markdown",
   "metadata": {},
   "source": [
    "# Examples"
   ]
  },
  {
   "cell_type": "markdown",
   "metadata": {},
   "source": [
    "![](./img/skip.png)"
   ]
  },
  {
   "cell_type": "markdown",
   "metadata": {},
   "source": [
    "# Roll your own loop\n",
    "\n",
    "Source: [Disassembling Python Bytecode by Peter Goldsborough](http://www.goldsborough.me/python/low-level/2016/10/04/00-31-30-disassembling_python_bytecode/)\n",
    "\n",
    "## [LIVE DEMO](./examples/live_loop.py)\n",
    "\n",
    "- [while loop](./examples/loop_while.py)\n",
    "- [for loop](./examples/loop_for.py)"
   ]
  },
  {
   "cell_type": "markdown",
   "metadata": {},
   "source": [
    "![](./img/skip.png)"
   ]
  },
  {
   "cell_type": "markdown",
   "metadata": {},
   "source": [
    "# Globals and dynamic loading\n",
    "\n",
    "## \"Optimizations\"\n",
    "\n",
    "\n",
    "Source: [Disassembling Python Bytecode by Peter Goldsborough](http://www.goldsborough.me/python/low-level/2016/10/04/00-31-30-disassembling_python_bytecode/)\n",
    "\n",
    "## [LIVE DEMO](./examples/live_lookup.py)\n",
    "\n",
    "- [lookup naive](./examples/lookup_naive.py)"
   ]
  },
  {
   "cell_type": "code",
   "execution_count": null,
   "metadata": {},
   "outputs": [],
   "source": [
    "from examples.lookup_ref import naive, cache"
   ]
  },
  {
   "cell_type": "code",
   "execution_count": null,
   "metadata": {},
   "outputs": [],
   "source": [
    "import inspect\n",
    "\n",
    "print(inspect.getsource(naive))\n",
    "print(inspect.getsource(cache))"
   ]
  },
  {
   "cell_type": "code",
   "execution_count": null,
   "metadata": {},
   "outputs": [],
   "source": [
    "%timeit naive()"
   ]
  },
  {
   "cell_type": "code",
   "execution_count": null,
   "metadata": {},
   "outputs": [],
   "source": [
    "%timeit cache()"
   ]
  },
  {
   "cell_type": "markdown",
   "metadata": {},
   "source": [
    "![](./img/skip.png)"
   ]
  },
  {
   "cell_type": "markdown",
   "metadata": {},
   "source": [
    "# Not all bytecode instructions are equally expensive\n",
    "\n",
    "# LOAD_GLOBAL\n",
    "\n",
    "![load_global](./img/load_global.png)\n",
    "\n",
    "# LOAD_FAST\n",
    "\n",
    "![load_fast](./img/load_fast.png)"
   ]
  },
  {
   "cell_type": "markdown",
   "metadata": {},
   "source": [
    "![](./img/skip.png)"
   ]
  },
  {
   "cell_type": "markdown",
   "metadata": {},
   "source": [
    "# References\n",
    "\n",
    "## - [Allison Kaptur - Bytes in the Machine: Inside the CPython interpreter - PyCon 2015](https://www.youtube.com/watch?v=HVUTjQzESeo)\n",
    "## - [James Bennett - A Bit about Bytes: Understanding Python Bytecode - PyCon 2018](https://www.youtube.com/watch?v=cSSpnq362Bk)\n",
    "## - [Introduction to the Python Interpreter, Part 3: Understanding Bytecode](https://akaptur.com/blog/2013/11/17/introduction-to-the-python-interpreter-3/)\n",
    "## - [Disassembling Python Bytecode - Peter Goldsborough](http://www.goldsborough.me/python/low-level/2016/10/04/00-31-30-disassembling_python_bytecode/)"
   ]
  },
  {
   "cell_type": "markdown",
   "metadata": {},
   "source": [
    "![](./img/skip.png)"
   ]
  },
  {
   "cell_type": "markdown",
   "metadata": {},
   "source": [
    "# jupyterlab-python-bytecode\n",
    "\n",
    "## [github.com/jtpio/jupyterlab-python-bytecode](https://github.com/jtpio/jupyterlab-python-bytecode)\n",
    "\n",
    "\n",
    "## `jupyter labextension install jupyterlab-python-bytecode`"
   ]
  },
  {
   "cell_type": "markdown",
   "metadata": {},
   "source": [
    "![](./img/skip.png)"
   ]
  },
  {
   "cell_type": "markdown",
   "metadata": {},
   "source": [
    "# Thanks!\n",
    "\n",
    "## [github.com/jtpio](https://github.com/jtpio)"
   ]
  },
  {
   "cell_type": "markdown",
   "metadata": {},
   "source": [
    "![](./img/skip.png)"
   ]
  }
 ],
 "metadata": {
  "kernelspec": {
   "display_name": "Python 3",
   "language": "python",
   "name": "python3"
  },
  "language_info": {
   "codemirror_mode": {
    "name": "ipython",
    "version": 3
   },
   "file_extension": ".py",
   "mimetype": "text/x-python",
   "name": "python",
   "nbconvert_exporter": "python",
   "pygments_lexer": "ipython3",
   "version": "3.7.1"
  }
 },
 "nbformat": 4,
 "nbformat_minor": 2
}
